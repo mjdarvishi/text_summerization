{
 "cells": [
  {
   "cell_type": "markdown",
   "metadata": {},
   "source": [
    "Import dependency"
   ]
  },
  {
   "cell_type": "code",
   "execution_count": 1,
   "metadata": {},
   "outputs": [
    {
     "name": "stderr",
     "output_type": "stream",
     "text": [
      "[nltk_data] Downloading package punkt to\n",
      "[nltk_data]     C:\\Users\\mjdar\\AppData\\Roaming\\nltk_data...\n",
      "[nltk_data]   Package punkt is already up-to-date!\n",
      "[nltk_data] Downloading package stopwords to\n",
      "[nltk_data]     C:\\Users\\mjdar\\AppData\\Roaming\\nltk_data...\n",
      "[nltk_data]   Package stopwords is already up-to-date!\n"
     ]
    }
   ],
   "source": [
    "import nltk\n",
    "from nltk.tokenize import sent_tokenize\n",
    "from nltk.corpus import stopwords\n",
    "from nltk.probability import FreqDist\n",
    "from nltk.tokenize import word_tokenize\n",
    "nltk.download('punkt')\n",
    "nltk.download('stopwords')\n",
    "stop_words = stopwords.words('english')"
   ]
  },
  {
   "cell_type": "markdown",
   "metadata": {},
   "source": [
    "Tokenize the input and style texts"
   ]
  },
  {
   "cell_type": "code",
   "execution_count": 2,
   "metadata": {},
   "outputs": [],
   "source": [
    "input_text = \"\"\"\n",
    "Natural language processing (NLP) is a field of artificial intelligence that focuses on the interaction between computers and humans using natural language. It involves the development of algorithms and models that enable computers to understand, interpret, and generate human-like language. NLP has applications in various domains, including machine translation, sentiment analysis, chatbots, and information retrieval.\n",
    "\n",
    "One of the key challenges in NLP is the ambiguity and variability of human language. Words and phrases can have multiple meanings depending on the context, making it challenging for computers to accurately understand and process natural language. Researchers in the field of NLP work on developing advanced algorithms and techniques to address these challenges and improve the accuracy of language processing systems.\n",
    "\n",
    "As technology continues to advance, the importance of NLP is increasing in various industries. Businesses use NLP to analyze customer feedback, automate customer support, and extract valuable insights from large volumes of text data. NLP is also used in virtual assistants, voice recognition systems, and language translation services.\n",
    "\n",
    "In this era of big data, NLP plays a crucial role in extracting meaningful information from unstructured text data. As the field continues to evolve, researchers and practitioners strive to enhance the capabilities of NLP systems, making them more efficient and effective in understanding and processing natural language.\n",
    "\"\"\"\n",
    "style_text =\"\"\"\n",
    "Artificial intelligence (AI) is a rapidly advancing field that encompasses a wide range of technologies, including machine learning, robotics, and natural language processing. AI systems aim to replicate human intelligence and perform tasks that typically require human intelligence, such as problem-solving, learning, and understanding natural language.\n",
    "\n",
    "The field of AI has witnessed significant breakthroughs in recent years, with the development of sophisticated algorithms and models. Machine learning, a subset of AI, enables computers to learn from data and improve their performance over time. Deep learning, a subfield of machine learning, has shown remarkable success in tasks such as image recognition, speech recognition, and natural language understanding.\n",
    "\n",
    "Natural language processing (NLP) is a crucial component of AI, allowing machines to interact with humans in a way that resembles natural communication. NLP technologies power virtual assistants, chatbots, and language translation services. As AI continues to advance, researchers explore new possibilities for intelligent systems that can understand, interpret, and respond to human language in increasingly complex scenarios.\n",
    "\n",
    "Ethical considerations and responsible AI development are gaining prominence in the AI community. As AI technologies become more integrated into daily life, there is a growing awareness of the need to address issues related to bias, transparency, and accountability. Researchers and practitioners in AI work towards developing ethical AI systems that prioritize fairness, inclusivity, and societal well-being.\n",
    "\"\"\"\n",
    "context_window_limit=150\n",
    "\n",
    "input_sentences = sent_tokenize(input_text)\n",
    "style_sentences = sent_tokenize(style_text)"
   ]
  },
  {
   "cell_type": "markdown",
   "metadata": {},
   "source": [
    "Compute target lengths"
   ]
  },
  {
   "cell_type": "code",
   "execution_count": 3,
   "metadata": {},
   "outputs": [],
   "source": [
    "input_length = len(input_text)\n",
    "style_length = len(style_text)\n",
    "\n",
    "target_style_length = int((style_length / (input_length + style_length)) * context_window_limit)\n",
    "target_input_length = int((input_length / (input_length + style_length)) * context_window_limit)"
   ]
  },
  {
   "cell_type": "markdown",
   "metadata": {},
   "source": [
    "Initialize the summary"
   ]
  },
  {
   "cell_type": "code",
   "execution_count": 4,
   "metadata": {},
   "outputs": [
    {
     "name": "stdout",
     "output_type": "stream",
     "text": [
      "\n",
      "Artificial intelligence (AI) is a rapidly advancing field that encompasses a \n",
      "Natural language processing (NLP) is a field of artificial intelligence\n"
     ]
    }
   ],
   "source": [
    "if len(input_text) <= context_window_limit * 1024 * 1024 and len(style_text) <= context_window_limit * 1024 * 1024:\n",
    "    final_summary=[]\n",
    "    for style_sentence in style_sentences:\n",
    "        if target_style_length >= len(style_sentence):\n",
    "            final_summary.append(style_sentence)\n",
    "            target_style_length -= len(style_sentence)\n",
    "        else:\n",
    "            # Otherwise, truncate the sentence to fit the remaining space\n",
    "            truncated_sentence = style_sentence[:target_style_length]\n",
    "            final_summary.append(truncated_sentence)\n",
    "            break\n",
    "\n",
    "    # Repeat the summarization process for the input text\n",
    "    for input_sentence in input_sentences:\n",
    "        if target_input_length >= len(input_sentence):\n",
    "            final_summary.append(input_sentence)\n",
    "            target_input_length -= len(input_sentence)\n",
    "        else:\n",
    "            truncated_sentence = input_sentence[:target_input_length]\n",
    "            final_summary.append(truncated_sentence)\n",
    "            break\n",
    "\n",
    "    # Collate the summaries\n",
    "    collated_summary = ' '.join(final_summary)\n",
    "    print(collated_summary)\n",
    "else:\n",
    "     print(\"Input text or style text length exceeds the context window limit.\")"
   ]
  }
 ],
 "metadata": {
  "kernelspec": {
   "display_name": "Python 3",
   "language": "python",
   "name": "python3"
  },
  "language_info": {
   "codemirror_mode": {
    "name": "ipython",
    "version": 3
   },
   "file_extension": ".py",
   "mimetype": "text/x-python",
   "name": "python",
   "nbconvert_exporter": "python",
   "pygments_lexer": "ipython3",
   "version": "3.10.5"
  }
 },
 "nbformat": 4,
 "nbformat_minor": 2
}
